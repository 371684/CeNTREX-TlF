{
 "cells": [
  {
   "cell_type": "code",
   "execution_count": 1,
   "metadata": {},
   "outputs": [],
   "source": [
    "import numpy as np\n",
    "import centrex_TlF as ctl\n",
    "import matplotlib.pyplot as plt"
   ]
  },
  {
   "cell_type": "code",
   "execution_count": 2,
   "metadata": {},
   "outputs": [],
   "source": [
    "QNc = ctl.states.generate_coupled_states_ground([0,1])\n",
    "QN = ctl.states.generate_uncoupled_states_ground([0,1])"
   ]
  },
  {
   "cell_type": "code",
   "execution_count": 46,
   "metadata": {},
   "outputs": [
    {
     "name": "stdout",
     "output_type": "stream",
     "text": [
      "Wall time: 6.75 s\n"
     ]
    }
   ],
   "source": [
    "%%time\n",
    "ground_states, Hgnd = ctl.hamiltonian.generate_reduced_X_hamiltonian(QNc, 0, 1, rtol = None)"
   ]
  },
  {
   "cell_type": "code",
   "execution_count": 47,
   "metadata": {},
   "outputs": [
    {
     "data": {
      "text/plain": [
       "False"
      ]
     },
     "execution_count": 47,
     "metadata": {},
     "output_type": "execute_result"
    }
   ],
   "source": [
    "np.all(np.isclose(Hgnd.conj().T, Hgnd))"
   ]
  },
  {
   "cell_type": "code",
   "execution_count": 48,
   "metadata": {},
   "outputs": [
    {
     "name": "stdout",
     "output_type": "stream",
     "text": [
      "0 1 (-2.0906496262481573e-17+0j) (-2.0906495855589792e-17+0j)\n",
      "0 2 (-2.279335800290905e-12+0j) (2.2810420161112044e-16+0j)\n",
      "1 0 (-2.0906495855589792e-17+0j) (-2.0906496262481573e-17+0j)\n",
      "1 2 (-3.638991038789826e-12+0j) (-3.638991038790233e-12+0j)\n",
      "2 0 (2.2810420161112044e-16+0j) (-2.279335800290905e-12+0j)\n",
      "2 1 (-3.638991038790233e-12+0j) (-3.638991038789826e-12+0j)\n",
      "4 5 (-9.352559392163955e-10+0j) (-9.35940513430428e-10+0j)\n",
      "4 6 (9.132761755618169e-07+0j) (8.659582772266257e-08+0j)\n",
      "4 7 (-9.169045089626856e-15+0j) (-9.11668677065373e-15+0j)\n",
      "4 8 (1.1910669766404508e-10+0j) (1.0211194960270651e-10+0j)\n",
      "4 9 (5.641560328945676e-06+0j) (-3.814007595891014e-09+0j)\n",
      "4 10 (-1.0110639543346732e-14+0j) (1.3622886821701105e-15+0j)\n",
      "4 11 (1.6543158955792476e-21+0j) (1.6521003797571268e-21+0j)\n",
      "4 12 (-3.667422179622913e-15+0j) (-3.667461846799391e-15+0j)\n",
      "4 13 (-1.648951341198581e-06+0j) (-3.571437924962351e-13+0j)\n",
      "4 14 (9.726096578621995e-18+0j) (6.307596576674442e-21+0j)\n",
      "5 4 (-9.35940513430428e-10+0j) (-9.352559392163955e-10+0j)\n",
      "5 6 (-1.0362960617188436e-05+0j) (-1.0362959293592057e-05+0j)\n",
      "5 7 (-3.0919782265682424e-10+0j) (-3.091984134019568e-10+0j)\n",
      "5 8 (4.6040424948390425e-06+0j) (5.699256579772297e-06+0j)\n",
      "5 9 (1.5115259098993354e-05+0j) (1.5115251165650124e-05+0j)\n",
      "5 10 (1.8489068914941123e-08+0j) (1.8489081276133578e-08+0j)\n",
      "5 11 (2.2726741420951303e-12+0j) (-1.164554400932672e-12+0j)\n",
      "5 12 (-5.665262071222505e-06+0j) (1.5782355253360547e-09+0j)\n",
      "5 13 (-1.295319924634368e-05+0j) (-1.2953202109416439e-05+0j)\n",
      "5 14 (7.991466014505788e-13+0j) (1.1170718708912532e-12+0j)\n",
      "6 4 (8.659582772266257e-08+0j) (9.132761755618169e-07+0j)\n",
      "6 5 (-1.0362959293592057e-05+0j) (-1.0362960617188436e-05+0j)\n",
      "6 7 (-1.032934764982722e-10+0j) (-1.0329354702608412e-10+0j)\n",
      "6 8 (1.0672841955583733e-06+0j) (1.067270715212996e-06+0j)\n",
      "6 9 (5.8165712779858365e-06+0j) (1.8901088602797596e-06+0j)\n",
      "6 10 (1.5293193368377193e-11+0j) (1.530270308009923e-11+0j)\n",
      "6 11 (1.4842222279426887e-17+0j) (1.7683401290621723e-17+0j)\n",
      "6 12 (-3.2604436030024586e-11+0j) (-3.728840913900045e-11+0j)\n",
      "6 13 (3.4645909536009364e-06+0j) (7.647473702811649e-10+0j)\n",
      "6 14 (1.102463539280208e-16+0j) (1.2185104390391143e-16+0j)\n",
      "7 4 (-9.11668677065373e-15+0j) (-9.169045089626856e-15+0j)\n",
      "7 5 (-3.091984134019568e-10+0j) (-3.0919782265682424e-10+0j)\n",
      "7 6 (-1.0329354702608412e-10+0j) (-1.032934764982722e-10+0j)\n",
      "7 8 (-2.662178298702733e-06+0j) (-2.662178356471841e-06+0j)\n",
      "7 9 (-2.7308677335205507e-09+0j) (-2.7308548352971337e-09+0j)\n",
      "7 10 (-3.9860702562783845e-06+0j) (4.672058462478734e-07+0j)\n",
      "7 11 (1.1489052680104915e-07+0j) (1.1489094751106136e-07+0j)\n",
      "7 12 (1.7283271665285043e-07+0j) (1.728327613388603e-07+0j)\n",
      "7 13 (1.926330488404893e-05+0j) (1.9263304883742637e-05+0j)\n",
      "7 14 (-5.0556167700820334e-06+0j) (-5.836115854375348e-06+0j)\n",
      "8 4 (1.0211194960270651e-10+0j) (1.1910669766404508e-10+0j)\n",
      "8 5 (5.699256579772297e-06+0j) (4.6040424948390425e-06+0j)\n",
      "8 6 (1.067270715212996e-06+0j) (1.0672841955583733e-06+0j)\n",
      "8 7 (-2.662178356471841e-06+0j) (-2.662178298702733e-06+0j)\n",
      "8 9 (-1.896043614581164e-06+0j) (-1.8960491752264315e-06+0j)\n",
      "8 10 (-2.441613303721307e-08+0j) (-2.4415991935827297e-08+0j)\n",
      "8 11 (-1.23825575389155e-09+0j) (-1.23565560769397e-09+0j)\n",
      "8 12 (4.289814468479247e-06+0j) (2.3397883841272934e-09+0j)\n",
      "8 13 (1.2168988484858932e-07+0j) (1.2168336351175273e-07+0j)\n",
      "8 14 (1.750688103347716e-08+0j) (1.75066360079408e-08+0j)\n",
      "9 4 (-3.814007595891014e-09+0j) (5.641560328945676e-06+0j)\n",
      "9 5 (1.5115251165650124e-05+0j) (1.5115259098993354e-05+0j)\n"
     ]
    },
    {
     "data": {
      "text/plain": [
       "<matplotlib.image.AxesImage at 0x1e7c48e9a00>"
      ]
     },
     "execution_count": 48,
     "metadata": {},
     "output_type": "execute_result"
    },
    {
     "data": {
      "image/png": "[encoded data removed]",
      "text/plain": [
       "<Figure size 432x288 with 1 Axes>"
      ]
     },
     "metadata": {
      "needs_background": "light"
     },
     "output_type": "display_data"
    }
   ],
   "source": [
    "tmp = Hgnd.copy()\n",
    "np.fill_diagonal(tmp,0)\n",
    "\n",
    "nz = np.nonzero(tmp)\n",
    "for i,j in list(zip(*nz))[:len(nz[0])//2]:\n",
    "    print(i,j,tmp[i,j],tmp[j,i])\n",
    "    \n",
    "plt.imshow(tmp.real)"
   ]
  },
  {
   "cell_type": "code",
   "execution_count": 51,
   "metadata": {},
   "outputs": [
    {
     "data": {
      "text/plain": [
       "1.00-0.00j x |X, J = 1, F₁ = 1/2, F = 1, mF = -1, I₁ = 1/2, I₂ = 1/2, P = -, Ω = 0>\n",
       "0.09-0.00j x |X, J = 1, F₁ = 3/2, F = 1, mF = -1, I₁ = 1/2, I₂ = 1/2, P = -, Ω = 0>"
      ]
     },
     "execution_count": 51,
     "metadata": {},
     "output_type": "execute_result"
    }
   ],
   "source": [
    "ground_states[5]"
   ]
  },
  {
   "cell_type": "code",
   "execution_count": 49,
   "metadata": {},
   "outputs": [
    {
     "name": "stdout",
     "output_type": "stream",
     "text": [
      "Wall time: 6.48 s\n"
     ]
    }
   ],
   "source": [
    "ground_statessform = ctl.hamiltonian.generate_transform_matrix(QN, QNc)"
   ]
  },
  {
   "cell_type": "code",
   "execution_count": 23,
   "metadata": {},
   "outputs": [],
   "source": [
    "import pickle\n",
    "with open('UC_to_C_J0to4.pickle', 'rb') as f:\n",
    "    S_transform_O = pickle.load(f)"
   ]
  },
  {
   "cell_type": "code",
   "execution_count": 24,
   "metadata": {},
   "outputs": [
    {
     "data": {
      "text/plain": [
       "True"
      ]
     },
     "execution_count": 24,
     "metadata": {},
     "output_type": "execute_result"
    }
   ],
   "source": [
    "np.allclose(S_transform, S_transform[:16,:16])"
   ]
  },
  {
   "cell_type": "code",
   "execution_count": 25,
   "metadata": {},
   "outputs": [],
   "source": [
    "def generate_excited_states_approx(Jlist, Flist, F1list, P, \n",
    "                                    I_F = 1/2, I_Tl = 1/2):\n",
    "    excited_states_approx = [\n",
    "        ctl.CoupledBasisState(F,mF,F1,J,I_F,I_Tl, electronic_state='B', P = P, \n",
    "                            Omega = 1)\n",
    "        for J,F1,F in zip(Jlist, F1list, Flist)\n",
    "        for mF in np.arange(-F, F+1)\n",
    "        ]\n",
    "    return excited_states_approx\n",
    "\n",
    "QNce = generate_excited_states_approx([1], [1], [3/2], P=-1)"
   ]
  },
  {
   "cell_type": "code",
   "execution_count": 7,
   "metadata": {},
   "outputs": [
    {
     "name": "stdout",
     "output_type": "stream",
     "text": [
      "Wall time: 163 ms\n"
     ]
    }
   ],
   "source": [
    "%%time\n",
    "excited_states, Hexc = ctl.hamiltonian.generate_reduced_B_hamiltonian(QNce)"
   ]
  },
  {
   "cell_type": "code",
   "execution_count": 8,
   "metadata": {},
   "outputs": [
    {
     "data": {
      "text/plain": [
       "[1.00 x |B, J = 1, F₁ = 3/2, F = 1, mF = -1, I₁ = 1/2, I₂ = 1/2, P = -, Ω = 1>,\n",
       " 1.00 x |B, J = 1, F₁ = 3/2, F = 1, mF = 0, I₁ = 1/2, I₂ = 1/2, P = -, Ω = 1>,\n",
       " 1.00 x |B, J = 1, F₁ = 3/2, F = 1, mF = 1, I₁ = 1/2, I₂ = 1/2, P = -, Ω = 1>]"
      ]
     },
     "execution_count": 8,
     "metadata": {},
     "output_type": "execute_result"
    }
   ],
   "source": [
    "excited_states"
   ]
  },
  {
   "cell_type": "code",
   "execution_count": 9,
   "metadata": {},
   "outputs": [],
   "source": [
    "import sqlite3"
   ]
  },
  {
   "cell_type": "code",
   "execution_count": 10,
   "metadata": {},
   "outputs": [],
   "source": [
    "con = sqlite3.connect(\"uncoupled_hamiltonian_X.db\")\n",
    "cur = con.cursor()"
   ]
  },
  {
   "cell_type": "code",
   "execution_count": 11,
   "metadata": {},
   "outputs": [
    {
     "name": "stdout",
     "output_type": "stream",
     "text": [
      "[]\n"
     ]
    }
   ],
   "source": [
    "cur.execute(\"SELECT name FROM sqlite_master WHERE type='table';\")\n",
    "print(cur. fetchall())"
   ]
  },
  {
   "cell_type": "code",
   "execution_count": 12,
   "metadata": {},
   "outputs": [],
   "source": [
    "try:\n",
    "    for table in 'Hff, HSx, HSy, HSz, HZx, HZy, HZz'.split(\",\"):\n",
    "        table = table.strip()\n",
    "        cur.execute(f'''CREATE TABLE {table} (J₁ int, mJ₁ int, I1₁ real, m1₁ real, I2₁ real, m2₁ real, J₂ int, mJ₂ int, I1₂ real, m1₂ real, I2₂ real, m2₂ real, value_real real, value_imag real, \n",
    "                        unique (J₁, mJ₁, I1₁, m1₁, I2₁, m2₁, J₂, mJ₂, I1₂, m1₂, I2₂, m2₂))''')\n",
    "except:\n",
    "    pass"
   ]
  },
  {
   "cell_type": "code",
   "execution_count": 13,
   "metadata": {},
   "outputs": [],
   "source": [
    "con.commit()"
   ]
  },
  {
   "cell_type": "code",
   "execution_count": 14,
   "metadata": {},
   "outputs": [
    {
     "name": "stdout",
     "output_type": "stream",
     "text": [
      "0\n"
     ]
    }
   ],
   "source": [
    "cur.execute(\"select * from Hff\")\n",
    "values = cur.fetchall()\n",
    "print(len(values))"
   ]
  },
  {
   "cell_type": "code",
   "execution_count": 15,
   "metadata": {},
   "outputs": [
    {
     "name": "stdout",
     "output_type": "stream",
     "text": [
      "[('Hff',), ('HSx',), ('HSy',), ('HSz',), ('HZx',), ('HZy',), ('HZz',)]\n"
     ]
    }
   ],
   "source": [
    "cur.execute(\"SELECT name FROM sqlite_master WHERE type='table';\")\n",
    "print(cur. fetchall())"
   ]
  },
  {
   "cell_type": "code",
   "execution_count": 46,
   "metadata": {},
   "outputs": [],
   "source": [
    "QN = ctl.states.generate_uncoupled_states_ground([0,1,2,3,4,5,6])"
   ]
  },
  {
   "cell_type": "code",
   "execution_count": 47,
   "metadata": {},
   "outputs": [
    {
     "name": "stderr",
     "output_type": "stream",
     "text": [
      "100%|███████████████████████████████████████████████████████████████████████████████████████████████████████| 196/196 [01:52<00:00,  1.74it/s]\n",
      "100%|███████████████████████████████████████████████████████████████████████████████████████████████████████| 196/196 [00:03<00:00, 61.50it/s]\n",
      "100%|███████████████████████████████████████████████████████████████████████████████████████████████████████| 196/196 [00:03<00:00, 58.96it/s]\n",
      "100%|██████████████████████████████████████████████████████████████████████████████████████████████████████| 196/196 [00:01<00:00, 167.74it/s]\n",
      "100%|███████████████████████████████████████████████████████████████████████████████████████████████████████| 196/196 [00:03<00:00, 53.99it/s]\n",
      "100%|███████████████████████████████████████████████████████████████████████████████████████████████████████| 196/196 [00:03<00:00, 53.06it/s]\n",
      "100%|██████████████████████████████████████████████████████████████████████████████████████████████████████| 196/196 [00:01<00:00, 121.14it/s]\n"
     ]
    }
   ],
   "source": [
    "from tqdm import tqdm\n",
    "\n",
    "for table in 'Hff_alt, HSx, HSy, HSz, HZx, HZy, HZz'.split(\",\"):\n",
    "    table = table.strip()\n",
    "    if table =='Hff_alt':\n",
    "        tab = 'Hff_X_alt'\n",
    "        table = 'Hff'\n",
    "    elif 'HZ' in table:\n",
    "        tab = table + '_X'\n",
    "    else:\n",
    "        tab = table\n",
    "    for a in tqdm(QN):\n",
    "        for b in QN:\n",
    "            val = (1*a)@(eval(f\"ctl.hamiltonian.hamiltonian_terms_uncoupled.{tab}\")(b))\n",
    "            if val != 0:\n",
    "                try:\n",
    "                    string = f\"{a.J}, {a.mJ}, {a.I1}, {a.m1}, {a.I2}, {a.m2}, {b.J}, {b.mJ}, {b.I1}, {b.m1}, {b.I2}, {b.m2}, {val.real}, {val.imag}\"\n",
    "                    cmd = f\"INSERT INTO {table} VALUES ({string})\"\n",
    "                    cur.execute(cmd)\n",
    "                except Exception as e:\n",
    "#                     print(a, b, val)\n",
    "#                     raise e\n",
    "                    pass\n",
    "con.commit()"
   ]
  },
  {
   "cell_type": "code",
   "execution_count": 48,
   "metadata": {},
   "outputs": [],
   "source": [
    "def generate_uncoupled_hamiltonian_X_sqlite(QN, db):\n",
    "    con = sqlite3.connect(db)\n",
    "    H = {}\n",
    "    with con:\n",
    "        cur = con.cursor()\n",
    "        for term in ['Hff', 'HSx', 'HSy', 'HSz', 'HZx', 'HZy', 'HZz']:\n",
    "            result = np.zeros((len(QN),len(QN)), complex)\n",
    "            for i,a in enumerate(QN):\n",
    "                for j in range(i,len(QN)):\n",
    "                    b = QN[j]\n",
    "                    string = f\"J₁ = {a.J} AND mJ₁ = {a.mJ} AND I1₁ = {a.I1} AND m1₁ = {a.m1} AND I2₁ = {a.I2} AND m2₁ = {a.m2} AND J₂ = {b.J} AND mJ₂ = {b.mJ} AND I1₂ = {b.I1} AND m1₂ = {b.m1} AND I2₂ = {b.I2} AND m2₂ = {b.m2}\"\n",
    "                    cur.execute(f\"select value_real, value_imag from {term} WHERE {string}\")\n",
    "                    values = cur.fetchall()\n",
    "                    if values:\n",
    "                        values = values[0]\n",
    "                        result[i,j] = values[0] + 1j*values[1]\n",
    "                        if i != j:\n",
    "                            result[j,i] = np.conjugate(values[0] + 1j*values[1])\n",
    "            H[term] = result.copy()\n",
    "    return H"
   ]
  },
  {
   "cell_type": "code",
   "execution_count": 49,
   "metadata": {},
   "outputs": [
    {
     "name": "stdout",
     "output_type": "stream",
     "text": [
      "Wall time: 13.2 s\n"
     ]
    }
   ],
   "source": [
    "%%time\n",
    "Hsqlite = generate_uncoupled_hamiltonian_X_sqlite(QN, 'uncoupled_hamiltonian_X.db');"
   ]
  },
  {
   "cell_type": "code",
   "execution_count": 50,
   "metadata": {},
   "outputs": [
    {
     "name": "stdout",
     "output_type": "stream",
     "text": [
      "Wall time: 50.3 s\n"
     ]
    }
   ],
   "source": [
    "%%time\n",
    "H = ctl.hamiltonian.generate_uncoupled_hamiltonian_X(QN);"
   ]
  },
  {
   "cell_type": "code",
   "execution_count": 51,
   "metadata": {},
   "outputs": [
    {
     "data": {
      "text/plain": [
       "dict_keys(['Hff', 'HSx', 'HSy', 'HSz', 'HZx', 'HZy', 'HZz'])"
      ]
     },
     "execution_count": 51,
     "metadata": {},
     "output_type": "execute_result"
    }
   ],
   "source": [
    "H.keys()"
   ]
  },
  {
   "cell_type": "code",
   "execution_count": 52,
   "metadata": {},
   "outputs": [
    {
     "name": "stdout",
     "output_type": "stream",
     "text": [
      "True\n",
      "True\n",
      "True\n",
      "True\n",
      "True\n",
      "True\n",
      "True\n"
     ]
    }
   ],
   "source": [
    "for term in Hsqlite.keys():\n",
    "    print(np.allclose(Hsqlite[term], H[term]))"
   ]
  },
  {
   "cell_type": "code",
   "execution_count": 53,
   "metadata": {},
   "outputs": [
    {
     "data": {
      "text/plain": [
       "<matplotlib.image.AxesImage at 0x289b6fe3790>"
      ]
     },
     "execution_count": 53,
     "metadata": {},
     "output_type": "execute_result"
    },
    {
     "data": {
      "image/png": "[encoded data removed]",
      "text/plain": [
       "<Figure size 432x288 with 1 Axes>"
      ]
     },
     "metadata": {
      "needs_background": "light"
     },
     "output_type": "display_data"
    }
   ],
   "source": [
    "tmp = H['Hff'].copy()\n",
    "np.fill_diagonal(tmp,0)\n",
    "\n",
    "# nz = np.nonzero(tmp)\n",
    "# for i,j in list(zip(*nz))[:len(nz[0])//2]:\n",
    "#     print(i,j,tmp[i,j],tmp[j,i])\n",
    "    \n",
    "plt.imshow(tmp.real)"
   ]
  },
  {
   "cell_type": "code",
   "execution_count": 54,
   "metadata": {},
   "outputs": [
    {
     "data": {
      "text/plain": [
       "<matplotlib.image.AxesImage at 0x289b5b466a0>"
      ]
     },
     "execution_count": 54,
     "metadata": {},
     "output_type": "execute_result"
    },
    {
     "data": {
      "image/png": "[encoded data removed]",
      "text/plain": [
       "<Figure size 432x288 with 1 Axes>"
      ]
     },
     "metadata": {
      "needs_background": "light"
     },
     "output_type": "display_data"
    }
   ],
   "source": [
    "tmp = Hsqlite['Hff'].copy()\n",
    "np.fill_diagonal(tmp,0)\n",
    "\n",
    "# nz = np.nonzero(tmp)\n",
    "# for i,j in list(zip(*nz))[:len(nz[0])//2]:\n",
    "#     print(i,j,tmp[i,j],tmp[j,i])\n",
    "    \n",
    "plt.imshow(tmp.real)"
   ]
  },
  {
   "cell_type": "code",
   "execution_count": null,
   "metadata": {},
   "outputs": [],
   "source": []
  }
 ],
 "metadata": {
  "kernelspec": {
   "display_name": "Python 3",
   "language": "python",
   "name": "python3"
  },
  "language_info": {
   "codemirror_mode": {
    "name": "ipython",
    "version": 3
   },
   "file_extension": ".py",
   "mimetype": "text/x-python",
   "name": "python",
   "nbconvert_exporter": "python",
   "pygments_lexer": "ipython3",
   "version": "3.8.5"
  }
 },
 "nbformat": 4,
 "nbformat_minor": 4
}
